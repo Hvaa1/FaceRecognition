{
 "cells": [
  {
   "cell_type": "code",
   "execution_count": 4,
   "id": "7ec29a80-5a99-419c-a9f3-011c17262eee",
   "metadata": {},
   "outputs": [],
   "source": [
    "import cv2\n",
    "import os\n",
    "import random\n",
    "import numpy as np\n",
    "from matplotlib import pyplot as plt"
   ]
  },
  {
   "cell_type": "code",
   "execution_count": 6,
   "id": "dfa648ab-8754-45bd-b3eb-76371a5ce92f",
   "metadata": {},
   "outputs": [],
   "source": [
    "from tensorflow.keras.models import Model\n",
    "from tensorflow.keras.layers import Layer, Conv2D, Dense, MaxPooling2D, Input, Flatten\n",
    "import tensorflow as tf"
   ]
  },
  {
   "cell_type": "code",
   "execution_count": 5,
   "id": "d3ace9d1-6992-406c-94eb-06f94decf0cb",
   "metadata": {},
   "outputs": [],
   "source": [
    "gpus = tf.config.experimental.list_physical_devices('GPU')\n",
    "for gpu in gpus: \n",
    "    tf.config.experimental.set_memory_growth(gpu, True)"
   ]
  },
  {
   "cell_type": "code",
   "execution_count": 7,
   "id": "fdcb9cc8-c4be-4292-9591-9321a5fea633",
   "metadata": {},
   "outputs": [
    {
     "data": {
      "text/plain": [
       "[]"
      ]
     },
     "execution_count": 7,
     "metadata": {},
     "output_type": "execute_result"
    }
   ],
   "source": [
    "tf.config.list_physical_devices('GPU')"
   ]
  },
  {
   "cell_type": "code",
   "execution_count": 20,
   "id": "f8aa90d8-6212-4dfe-b962-723be3498e77",
   "metadata": {},
   "outputs": [],
   "source": [
    "POS_PATH = os.path.join('data','poistive')\n",
    "NEG_PATH = os.path.join('data','negative')\n",
    "ANC_PATH = os.path.join('data','anchor')"
   ]
  },
  {
   "cell_type": "code",
   "execution_count": 7,
   "id": "5430996b-7c39-4672-9143-5d52ded1f01f",
   "metadata": {},
   "outputs": [
    {
     "ename": "NameError",
     "evalue": "name 'POS_PATH' is not defined",
     "output_type": "error",
     "traceback": [
      "\u001b[1;31m---------------------------------------------------------------------------\u001b[0m",
      "\u001b[1;31mNameError\u001b[0m                                 Traceback (most recent call last)",
      "Cell \u001b[1;32mIn[7], line 1\u001b[0m\n\u001b[1;32m----> 1\u001b[0m os\u001b[38;5;241m.\u001b[39mmakedirs(POS_PATH)\n\u001b[0;32m      2\u001b[0m os\u001b[38;5;241m.\u001b[39mmakedirs(NEG_PATH)\n\u001b[0;32m      3\u001b[0m os\u001b[38;5;241m.\u001b[39mmakedirs(ANC_PATH)\n",
      "\u001b[1;31mNameError\u001b[0m: name 'POS_PATH' is not defined"
     ]
    }
   ],
   "source": [
    "os.makedirs(POS_PATH)\n",
    "os.makedirs(NEG_PATH)\n",
    "os.makedirs(ANC_PATH)"
   ]
  },
  {
   "cell_type": "code",
   "execution_count": null,
   "id": "815f7bbc-c9d0-4bc8-8506-35d671e4bc8e",
   "metadata": {},
   "outputs": [],
   "source": [
    "for direct in os.listdir('lfw-deepfunneled'):\n",
    "    for file in os.listdir(os.path.join('lfw-deepfunneled',direct)):\n",
    "        EX_PATH = os.path.join('lfw-deepfunneled',direct,file)\n",
    "        NEW_PATH = os.path.join(NEG_PATH,file)\n",
    "        os.replace(EX_PATH,NEW_PATH)"
   ]
  },
  {
   "cell_type": "code",
   "execution_count": null,
   "id": "408c0218-436d-4e41-b16a-79c4227847fa",
   "metadata": {},
   "outputs": [],
   "source": [
    "for file in os.listdir(os.path.join('data','images')):\n",
    "    EX_PATH = os.path.join('data','images',file)\n",
    "    NEW_PATH = os.path.join(NEG_PATH,file)\n",
    "    os.replace(EX_PATH,NEW_PATH)"
   ]
  },
  {
   "cell_type": "code",
   "execution_count": null,
   "id": "ea722d00-2c3d-4ead-8074-95ae59414a7a",
   "metadata": {},
   "outputs": [],
   "source": [
    "for x in os.listdir('archive (1)'):\n",
    "    for direct in os.listdir(os.path.join('archive (1)',x)):\n",
    "        for file in os.listdir(os.path.join('archive (1)',x,direct)):\n",
    "            EX_PATH = os.path.join('archive (1)',x,direct,file)\n",
    "            NEW_PATH = os.path.join(NEG_PATH,file)\n",
    "            os.replace(EX_PATH,NEW_PATH)"
   ]
  },
  {
   "cell_type": "code",
   "execution_count": 11,
   "id": "596248bc-33dd-44ee-919e-3fc176f59cea",
   "metadata": {},
   "outputs": [],
   "source": [
    "import uuid"
   ]
  },
  {
   "cell_type": "code",
   "execution_count": null,
   "id": "1f4a41f2-0394-43cb-bb86-bcc6a35633af",
   "metadata": {},
   "outputs": [],
   "source": [
    "os.path.join(ANC_PATH, '{}.jpg'.format(uuid.uuid1()))"
   ]
  },
  {
   "cell_type": "code",
   "execution_count": null,
   "id": "f98e704b-50fa-4648-86e8-caae611c6137",
   "metadata": {},
   "outputs": [],
   "source": [
    "cap = cv2.VideoCapture(0)\n",
    "while cap.isOpened():\n",
    "    ret,frame = cap.read()\n",
    "    frame = frame[120:120+250,120:120+250,:]\n",
    "    if cv2.waitKey(1) & 0XFF == ord('a'):\n",
    "        # Create the unique file path \n",
    "        imgname = os.path.join(ANC_PATH, '{}.jpg'.format(uuid.uuid1()))\n",
    "        # Write out anchor image\n",
    "        cv2.imwrite(imgname, frame)\n",
    "    if cv2.waitKey(1) & 0XFF == ord('p'):\n",
    "        # Create the unique file path \n",
    "        imgname = os.path.join(POS_PATH, '{}.jpg'.format(uuid.uuid1()))\n",
    "        # Write out anchor image\n",
    "        cv2.imwrite(imgname, frame)\n",
    "    cv2.imshow('Image Collection', frame)\n",
    "\n",
    "    # Breaking gracefully\n",
    "    if cv2.waitKey(1) & 0XFF == ord('q'):\n",
    "        break\n",
    "        \n",
    "# Release the webcam\n",
    "cap.release()\n",
    "# Close the image show frame\n",
    "cv2.destroyAllWindows()"
   ]
  },
  {
   "cell_type": "code",
   "execution_count": null,
   "id": "bdf0b228-2082-4735-9cfe-7c9cd2a17e8b",
   "metadata": {},
   "outputs": [],
   "source": [
    "plt.imshow(frame)"
   ]
  },
  {
   "cell_type": "code",
   "execution_count": 13,
   "id": "3d8ef39e-f89a-42eb-a380-e81d274dcac4",
   "metadata": {},
   "outputs": [],
   "source": [
    "def data_aug(img):\n",
    "    data = []\n",
    "    for i in range (9):\n",
    "        img = tf.image.stateless_random_brightness(img,max_delta=0.02,seed=(1,2))\n",
    "        img = tf.image.stateless_random_contrast(img, lower=0.6, upper=1, seed=(1,3))\n",
    "        # img = tf.image.stateless_random_crop(img, size=(20,20,3), seed=(1,2))\n",
    "        img = tf.image.stateless_random_flip_left_right(img, seed=(np.random.randint(100),np.random.randint(100)))\n",
    "        img = tf.image.stateless_random_jpeg_quality(img, min_jpeg_quality=90, max_jpeg_quality=100, seed=(np.random.randint(100),np.random.randint(100)))\n",
    "        img = tf.image.stateless_random_saturation(img, lower=0.9,upper=1, seed=(np.random.randint(100),np.random.randint(100)))\n",
    "        data.append(img)\n",
    "    return data"
   ]
  },
  {
   "cell_type": "code",
   "execution_count": null,
   "id": "57bf05e0-bafd-46e6-b927-3960a789ff51",
   "metadata": {},
   "outputs": [],
   "source": [
    "for file_name in os.listdir(os.path.join(POS_PATH)):\n",
    "    img_path = os.path.join(POS_PATH, file_name)\n",
    "    img = cv2.imread(img_path)\n",
    "    augmented_images = data_aug(img) \n",
    "    \n",
    "    for image in augmented_images:\n",
    "        cv2.imwrite(os.path.join(POS_PATH, '{}.jpg'.format(uuid.uuid1())), image.numpy())"
   ]
  },
  {
   "cell_type": "code",
   "execution_count": 17,
   "id": "051abdda-aed7-454a-9ef0-209497609306",
   "metadata": {},
   "outputs": [],
   "source": [
    "img_path = os.path.join(ANC_PATH, 'a91db690-028b-11f0-8c2f-58fb8442ae13.jpg')\n",
    "img = cv2.imread(img_path)\n",
    "augmented_images = data_aug(img) \n",
    "    \n",
    "for image in augmented_images:\n",
    "    cv2.imwrite(os.path.join(ANC_PATH, '{}.jpg'.format(uuid.uuid1())), image.numpy())"
   ]
  },
  {
   "cell_type": "code",
   "execution_count": 22,
   "id": "43a9682d-f8a0-4322-8118-895a971055db",
   "metadata": {},
   "outputs": [],
   "source": [
    "anchor = tf.data.Dataset.list_files(ANC_PATH+'\\\\*.jpg').take(3000)\n",
    "positive = tf.data.Dataset.list_files(POS_PATH+'\\\\*.jpg').take(3000)\n",
    "negative = tf.data.Dataset.list_files(NEG_PATH+'\\\\*.jpg').take(3000)"
   ]
  },
  {
   "cell_type": "code",
   "execution_count": 8,
   "id": "0c172536-4843-49ff-8de4-2c1850c65fa4",
   "metadata": {},
   "outputs": [],
   "source": [
    "dir_test = anchor.as_numpy_iterator()"
   ]
  },
  {
   "cell_type": "code",
   "execution_count": 11,
   "id": "f9a22c89-4513-4dce-9dfb-e5d3f27c950a",
   "metadata": {},
   "outputs": [
    {
     "data": {
      "text/plain": [
       "b'data\\\\anchor\\\\a033024d-028b-11f0-af93-58fb8442ae13.jpg'"
      ]
     },
     "execution_count": 11,
     "metadata": {},
     "output_type": "execute_result"
    }
   ],
   "source": [
    "dir_test.next()"
   ]
  },
  {
   "cell_type": "code",
   "execution_count": 24,
   "id": "91419a3e-5ad2-4016-bdea-20d22ef9d5e4",
   "metadata": {},
   "outputs": [],
   "source": [
    "def preprocess(file_path):\n",
    "    byte_img = tf.io.read_file(file_path)\n",
    "    img = tf.io.decode_jpeg(byte_img)\n",
    "    img = tf.image.resize(img,(100,100))\n",
    "    img= img[:, :, :3]\n",
    "    img = img/255.0\n",
    "    return img"
   ]
  },
  {
   "cell_type": "code",
   "execution_count": 15,
   "id": "cc0d7919-a4eb-480f-8279-93b9c1d8ced9",
   "metadata": {},
   "outputs": [],
   "source": [
    "img = preprocess('data\\\\anchor\\\\9e05b992-028b-11f0-b8d8-58fb8442ae13.jpg')"
   ]
  },
  {
   "cell_type": "code",
   "execution_count": 17,
   "id": "5cbb664a-5905-482c-95c7-3aa84b5144c9",
   "metadata": {},
   "outputs": [
    {
     "data": {
      "text/plain": [
       "0.7151961"
      ]
     },
     "execution_count": 17,
     "metadata": {},
     "output_type": "execute_result"
    }
   ],
   "source": [
    "img.numpy().max()"
   ]
  },
  {
   "cell_type": "code",
   "execution_count": 19,
   "id": "eec170ca-2a92-4c76-9ffc-07a7d097a5a5",
   "metadata": {
    "scrolled": true
   },
   "outputs": [
    {
     "data": {
      "text/plain": [
       "<matplotlib.image.AxesImage at 0x280d7b16f30>"
      ]
     },
     "execution_count": 19,
     "metadata": {},
     "output_type": "execute_result"
    },
    {
     "data": {
      "image/png": "[encoded data removed]",
      "text/plain": [
       "<Figure size 640x480 with 1 Axes>"
      ]
     },
     "metadata": {},
     "output_type": "display_data"
    }
   ],
   "source": [
    "plt.imshow(img)"
   ]
  },
  {
   "cell_type": "code",
   "execution_count": 217,
   "id": "faef31ed-e5f8-498b-a157-1fe2ed8a5c4a",
   "metadata": {},
   "outputs": [],
   "source": [
    "#Gan nhan\n",
    "#(anchor,positive) =>1,1,1,1\n",
    "#(anchor,negative) =>0,0,0,0"
   ]
  },
  {
   "cell_type": "code",
   "execution_count": 26,
   "id": "ec4d6ca4-2970-41b7-9b19-73270b99b5fb",
   "metadata": {},
   "outputs": [],
   "source": [
    "positives = tf.data.Dataset.zip((anchor,positive,tf.data.Dataset.from_tensor_slices(tf.ones(len(anchor)))))\n",
    "negatives = tf.data.Dataset.zip((anchor,negative,tf.data.Dataset.from_tensor_slices(tf.zeros(len(anchor)))))\n",
    "data = positives.concatenate(negatives)"
   ]
  },
  {
   "cell_type": "code",
   "execution_count": 23,
   "id": "d04297f9-32c5-4fca-b2b2-faf44943722c",
   "metadata": {},
   "outputs": [],
   "source": [
    "samples = data.as_numpy_iterator()"
   ]
  },
  {
   "cell_type": "code",
   "execution_count": 25,
   "id": "77a73aba-f29d-4509-891a-e60159f008d2",
   "metadata": {},
   "outputs": [],
   "source": [
    "example = samples.next()"
   ]
  },
  {
   "cell_type": "code",
   "execution_count": 27,
   "id": "0851abab-b460-4309-b0cc-06acccbf8ff3",
   "metadata": {},
   "outputs": [
    {
     "data": {
      "text/plain": [
       "(b'data\\\\anchor\\\\e8229de1-0806-11f0-a2cd-58fb8442ae13.jpg',\n",
       " b'data\\\\poistive\\\\d929ee80-0806-11f0-83c4-58fb8442ae13.jpg',\n",
       " 1.0)"
      ]
     },
     "execution_count": 27,
     "metadata": {},
     "output_type": "execute_result"
    }
   ],
   "source": [
    "example"
   ]
  },
  {
   "cell_type": "code",
   "execution_count": 28,
   "id": "9377bd6b-41a5-49ca-9bf3-04a77bb433a3",
   "metadata": {},
   "outputs": [],
   "source": [
    "def preprocess_twin(input_img,validation_img,label):\n",
    "    return(preprocess(input_img),preprocess(validation_img),label)"
   ]
  },
  {
   "cell_type": "code",
   "execution_count": 31,
   "id": "6d8cbda6-c188-4902-8b9e-02ca0e023b74",
   "metadata": {},
   "outputs": [],
   "source": [
    "res = preprocess_twin(*example)"
   ]
  },
  {
   "cell_type": "code",
   "execution_count": 33,
   "id": "c8380f58-e5f7-49ee-a7c7-7119cddd6dcb",
   "metadata": {
    "scrolled": true
   },
   "outputs": [
    {
     "data": {
      "text/plain": [
       "<matplotlib.image.AxesImage at 0x280d9b18c50>"
      ]
     },
     "execution_count": 33,
     "metadata": {},
     "output_type": "execute_result"
    },
    {
     "data": {
      "image/png": "[encoded data removed]",
      "text/plain": [
       "<Figure size 640x480 with 1 Axes>"
      ]
     },
     "metadata": {},
     "output_type": "display_data"
    }
   ],
   "source": [
    "plt.imshow(res[1])"
   ]
  },
  {
   "cell_type": "code",
   "execution_count": 35,
   "id": "92dfc469-bcbe-4fc3-b302-1da97bfaa7a1",
   "metadata": {},
   "outputs": [
    {
     "data": {
      "text/plain": [
       "1.0"
      ]
     },
     "execution_count": 35,
     "metadata": {},
     "output_type": "execute_result"
    }
   ],
   "source": [
    "res[2]"
   ]
  },
  {
   "cell_type": "code",
   "execution_count": 30,
   "id": "85fcc291-b2af-484f-8d32-e671ffc1b190",
   "metadata": {},
   "outputs": [],
   "source": [
    "data = data.map(preprocess_twin)\n",
    "data = data.cache()\n",
    "data = data.shuffle(buffer_size = 10000)"
   ]
  },
  {
   "cell_type": "code",
   "execution_count": 191,
   "id": "d2ac74d0-5216-4551-ba2d-4d868faf0ef7",
   "metadata": {},
   "outputs": [
    {
     "data": {
      "text/plain": [
       "538"
      ]
     },
     "execution_count": 191,
     "metadata": {},
     "output_type": "execute_result"
    }
   ],
   "source": [
    "data\n",
    "round(len(data))"
   ]
  },
  {
   "cell_type": "code",
   "execution_count": 215,
   "id": "bbae37ac-c8d9-4d21-a30c-7b07e5782b2e",
   "metadata": {},
   "outputs": [
    {
     "data": {
      "text/plain": [
       "376"
      ]
     },
     "execution_count": 215,
     "metadata": {},
     "output_type": "execute_result"
    }
   ],
   "source": [
    "round(int(0.7 * data.cardinality().numpy()))"
   ]
  },
  {
   "cell_type": "code",
   "execution_count": 201,
   "id": "9b22df70-58b9-4f47-a69a-cf95bb5f1451",
   "metadata": {},
   "outputs": [],
   "source": [
    "train_size = int(0.7 * data.cardinality().numpy())\n",
    "train_data =data.take(train_size).batch(16).prefetch(8)\n",
    "test_data = data.skip(train_size).batch(16).prefetch(8)"
   ]
  },
  {
   "cell_type": "code",
   "execution_count": 205,
   "id": "6161a528-78d9-4d43-81cf-4a8472894b10",
   "metadata": {},
   "outputs": [
    {
     "data": {
      "text/plain": [
       "11"
      ]
     },
     "execution_count": 205,
     "metadata": {},
     "output_type": "execute_result"
    }
   ],
   "source": [
    "round(len(test_data))"
   ]
  },
  {
   "cell_type": "code",
   "execution_count": 47,
   "id": "d7dccc01-2497-4319-b695-5693591aa8b9",
   "metadata": {},
   "outputs": [],
   "source": [
    "train_samples = train_data.as_numpy_iterator()"
   ]
  },
  {
   "cell_type": "code",
   "execution_count": 49,
   "id": "e494bc24-cddb-4b6f-9deb-af95e0766e42",
   "metadata": {},
   "outputs": [],
   "source": [
    "train_sample = train_samples.next()"
   ]
  },
  {
   "cell_type": "code",
   "execution_count": 207,
   "id": "95679a59-52c4-4c64-afb4-d5a0fea53dd9",
   "metadata": {},
   "outputs": [],
   "source": [
    "test_samples = test_data.as_numpy_iterator()"
   ]
  },
  {
   "cell_type": "code",
   "execution_count": 211,
   "id": "59814ce8-3a41-4f40-9661-c3888d4d723d",
   "metadata": {},
   "outputs": [],
   "source": [
    "test_sample=test_samples.next()"
   ]
  },
  {
   "cell_type": "code",
   "execution_count": 213,
   "id": "5caf0599-e7d8-4362-8dc3-f04b2ca3146a",
   "metadata": {},
   "outputs": [
    {
     "data": {
      "text/plain": [
       "16"
      ]
     },
     "execution_count": 213,
     "metadata": {},
     "output_type": "execute_result"
    }
   ],
   "source": [
    "len(test_sample[0])"
   ]
  },
  {
   "cell_type": "code",
   "execution_count": 173,
   "id": "0c85baa9-07dd-4bca-8a0c-1e8620d3e7c0",
   "metadata": {},
   "outputs": [
    {
     "data": {
      "text/plain": [
       "16"
      ]
     },
     "execution_count": 173,
     "metadata": {},
     "output_type": "execute_result"
    }
   ],
   "source": [
    "len(train_sample[0])"
   ]
  },
  {
   "cell_type": "code",
   "execution_count": 53,
   "id": "7025f370-ab8a-47e1-b4d3-bd9f673f1287",
   "metadata": {},
   "outputs": [],
   "source": [
    "inp = Input(shape=(100,100,3),name = 'input_image')"
   ]
  },
  {
   "cell_type": "code",
   "execution_count": 40,
   "id": "51e398ad-ff48-4531-9cde-52bbd8abd938",
   "metadata": {},
   "outputs": [],
   "source": [
    "def make_embedding():\n",
    "    inp = Input(shape=(100,100,3),name = 'input_image')\n",
    "    c1 = Conv2D(64,(10,10), activation = 'relu')(inp)\n",
    "    m1 = MaxPooling2D(64,(2,2), padding = 'same')(c1)\n",
    "    c2 = Conv2D(128,(7,7), activation = 'relu')(m1)\n",
    "    m2 = MaxPooling2D(64,(2,2), padding = 'same')(c2)\n",
    "    c3 = Conv2D(128,(4,4), activation = 'relu')(m2)\n",
    "    m3 = MaxPooling2D(64,(2,2), padding = 'same')(c3)\n",
    "    c4 = Conv2D(256,(4,4), activation = 'relu')(m3)\n",
    "    f1 = Flatten()(c4)\n",
    "    d1 = Dense(4096,activation = 'sigmoid')(f1)\n",
    "\n",
    "    return Model(inputs=[inp],outputs=[d1],name='embedding')"
   ]
  },
  {
   "cell_type": "code",
   "execution_count": 42,
   "id": "47dfc34b-5e53-439d-8ce7-acb150448548",
   "metadata": {},
   "outputs": [],
   "source": [
    "embedding = make_embedding()"
   ]
  },
  {
   "cell_type": "code",
   "execution_count": 32,
   "id": "75d6ae0b-574d-45c0-be80-7ea81e916ca9",
   "metadata": {},
   "outputs": [],
   "source": [
    "class L1Dist(Layer):\n",
    "    \n",
    "    # Init method - inheritance\n",
    "    def __init__(self, **kwargs):\n",
    "        super().__init__()\n",
    "       \n",
    "    # Magic happens here - similarity calculation\n",
    "    def call(self, input_embedding, validation_embedding):\n",
    "        return tf.math.abs([a - b for a, b in zip(input_embedding, validation_embedding)])"
   ]
  },
  {
   "cell_type": "code",
   "execution_count": 34,
   "id": "815b7f2c-422b-4f21-9d20-856ffce5b891",
   "metadata": {},
   "outputs": [],
   "source": [
    "input_image = Input(name='input_img' , shape=(100,100,3))\n",
    "validation_image = Input(name='validation_img' , shape=(100,100,3))"
   ]
  },
  {
   "cell_type": "code",
   "execution_count": 36,
   "id": "4637f422-a2a4-4b31-a661-6ce5337ca320",
   "metadata": {},
   "outputs": [
    {
     "data": {
      "text/plain": [
       "<KerasTensor shape=(None, 100, 100, 3), dtype=float32, sparse=False, ragged=False, name=input_img>"
      ]
     },
     "execution_count": 36,
     "metadata": {},
     "output_type": "execute_result"
    }
   ],
   "source": [
    "input_image"
   ]
  },
  {
   "cell_type": "code",
   "execution_count": 44,
   "id": "8df564c3-28e4-49ac-bb11-bc0f6f017580",
   "metadata": {},
   "outputs": [],
   "source": [
    "inp_embedding = embedding(input_image)\n",
    "val_embedding = embedding(validation_image)"
   ]
  },
  {
   "cell_type": "code",
   "execution_count": 46,
   "id": "1ce28dd3-9587-415b-8a49-9988367238bf",
   "metadata": {},
   "outputs": [
    {
     "data": {
      "text/plain": [
       "[<KerasTensor shape=(None, 4096), dtype=float32, sparse=False, ragged=False, name=keras_tensor_9>]"
      ]
     },
     "execution_count": 46,
     "metadata": {},
     "output_type": "execute_result"
    }
   ],
   "source": [
    "inp_embedding"
   ]
  },
  {
   "cell_type": "code",
   "execution_count": 48,
   "id": "aaa40c49-be31-41ee-b526-d373114a5baf",
   "metadata": {},
   "outputs": [],
   "source": [
    "siamese_layer = L1Dist()"
   ]
  },
  {
   "cell_type": "code",
   "execution_count": 50,
   "id": "9dc91b41-61bd-45ca-bdbd-c22d27d9c5bc",
   "metadata": {},
   "outputs": [
    {
     "name": "stdout",
     "output_type": "stream",
     "text": [
      "WARNING:tensorflow:From C:\\Users\\Hvaa\\AppData\\Local\\Temp\\ipykernel_3212\\1985068332.py:2: The name tf.disable_v2_behavior is deprecated. Please use tf.compat.v1.disable_v2_behavior instead.\n",
      "\n"
     ]
    },
    {
     "data": {
      "text/plain": [
       "<function tensorflow.python.compat.v2_compat.disable_v2_behavior()>"
      ]
     },
     "execution_count": 50,
     "metadata": {},
     "output_type": "execute_result"
    }
   ],
   "source": [
    "import tensorflow.compat.v1\n",
    "tf.compat.v1.disable_v2_behavior "
   ]
  },
  {
   "cell_type": "code",
   "execution_count": 52,
   "id": "8333cb82-f2ab-47b2-9ac6-e52ee24adebc",
   "metadata": {},
   "outputs": [],
   "source": [
    "distances = siamese_layer(inp_embedding,val_embedding)"
   ]
  },
  {
   "cell_type": "code",
   "execution_count": 54,
   "id": "702250a8-84d2-45fa-b8d6-2251eb1cd749",
   "metadata": {},
   "outputs": [
    {
     "name": "stdout",
     "output_type": "stream",
     "text": [
      "(1, None, 4096)\n"
     ]
    }
   ],
   "source": [
    "print(distances.shape)"
   ]
  },
  {
   "cell_type": "code",
   "execution_count": 56,
   "id": "5a0a19fd-c62d-49cc-9609-0f96463ed815",
   "metadata": {},
   "outputs": [],
   "source": [
    "class SqueezeLayer(tf.keras.layers.Layer):\n",
    "    def call(self, inputs):\n",
    "        return tf.squeeze(inputs, axis=0)\n",
    "\n",
    "distances = SqueezeLayer()(distances)"
   ]
  },
  {
   "cell_type": "code",
   "execution_count": 77,
   "id": "7550208a-8d7d-4d09-8626-6b424168ff29",
   "metadata": {},
   "outputs": [
    {
     "name": "stdout",
     "output_type": "stream",
     "text": [
      "(None, 4096)\n"
     ]
    }
   ],
   "source": [
    "print(distances.shape)"
   ]
  },
  {
   "cell_type": "code",
   "execution_count": 58,
   "id": "5191b714-af98-4712-8467-1b8ccbd5fb45",
   "metadata": {},
   "outputs": [],
   "source": [
    "classifier = Dense(1,activation = 'sigmoid')(distances)"
   ]
  },
  {
   "cell_type": "code",
   "execution_count": 60,
   "id": "09a5b590-94ec-4741-9b34-f770026171ff",
   "metadata": {},
   "outputs": [
    {
     "data": {
      "text/plain": [
       "<KerasTensor shape=(None, 1), dtype=float32, sparse=False, ragged=False, name=keras_tensor_13>"
      ]
     },
     "execution_count": 60,
     "metadata": {},
     "output_type": "execute_result"
    }
   ],
   "source": [
    "classifier"
   ]
  },
  {
   "cell_type": "code",
   "execution_count": 62,
   "id": "d27c60fb-b409-41a7-aa6e-8079ee67aa50",
   "metadata": {},
   "outputs": [],
   "source": [
    "siamese_network = Model(inputs=[input_image, validation_image], outputs=classifier, name='SiameseNetwork')"
   ]
  },
  {
   "cell_type": "code",
   "execution_count": 64,
   "id": "7353a512-fea0-460a-9817-b28c49dbc3ee",
   "metadata": {},
   "outputs": [],
   "source": [
    "def make_siamese_model(): \n",
    "    # Anchor image input in the network\n",
    "    input_image = Input(name='input_img', shape=(100,100,3))\n",
    "    \n",
    "    # Validation image in the network \n",
    "    validation_image = Input(name='validation_img', shape=(100,100,3))\n",
    "    \n",
    "    # Tính khoảng cách L1 giữa hai embeddings\n",
    "    siamese_layer = L1Dist()\n",
    "    siamese_layer._name = 'distance'\n",
    "    distances = siamese_layer(embedding(input_image), embedding(validation_image))\n",
    "\n",
    "    # Thay thế Lambda layer bằng Custom Layer\n",
    "    distances = SqueezeLayer()(distances)\n",
    "\n",
    "    # Classification layer \n",
    "    classifier = Dense(1, activation='sigmoid')(distances)\n",
    "    \n",
    "    return Model(inputs=[input_image, validation_image], outputs=classifier, name='SiameseNetwork')"
   ]
  },
  {
   "cell_type": "code",
   "execution_count": 66,
   "id": "bf9aa246-6c08-440b-91e4-3de0b423839c",
   "metadata": {},
   "outputs": [],
   "source": [
    "siamese_model = make_siamese_model()"
   ]
  },
  {
   "cell_type": "code",
   "execution_count": 68,
   "id": "ddf49aba-e15d-43c8-83b5-f16595c67c11",
   "metadata": {},
   "outputs": [
    {
     "data": {
      "text/html": [
       "<pre style=\"white-space:pre;overflow-x:auto;line-height:normal;font-family:Menlo,'DejaVu Sans Mono',consolas,'Courier New',monospace\"><span style=\"font-weight: bold\">Model: \"SiameseNetwork\"</span>\n",
       "</pre>\n"
      ],
      "text/plain": [
       "\u001b[1mModel: \"SiameseNetwork\"\u001b[0m\n"
      ]
     },
     "metadata": {},
     "output_type": "display_data"
    },
    {
     "data": {
      "text/html": [
       "<pre style=\"white-space:pre;overflow-x:auto;line-height:normal;font-family:Menlo,'DejaVu Sans Mono',consolas,'Courier New',monospace\">┏━━━━━━━━━━━━━━━━━━━━━━━━━━━━━━━┳━━━━━━━━━━━━━━━━━━━━━━━━━━━┳━━━━━━━━━━━━━━━━━┳━━━━━━━━━━━━━━━━━━━━━━━━━━━━┓\n",
       "┃<span style=\"font-weight: bold\"> Layer (type)                  </span>┃<span style=\"font-weight: bold\"> Output Shape              </span>┃<span style=\"font-weight: bold\">         Param # </span>┃<span style=\"font-weight: bold\"> Connected to               </span>┃\n",
       "┡━━━━━━━━━━━━━━━━━━━━━━━━━━━━━━━╇━━━━━━━━━━━━━━━━━━━━━━━━━━━╇━━━━━━━━━━━━━━━━━╇━━━━━━━━━━━━━━━━━━━━━━━━━━━━┩\n",
       "│ input_img (<span style=\"color: #0087ff; text-decoration-color: #0087ff\">InputLayer</span>)        │ (<span style=\"color: #00d7ff; text-decoration-color: #00d7ff\">None</span>, <span style=\"color: #00af00; text-decoration-color: #00af00\">100</span>, <span style=\"color: #00af00; text-decoration-color: #00af00\">100</span>, <span style=\"color: #00af00; text-decoration-color: #00af00\">3</span>)       │               <span style=\"color: #00af00; text-decoration-color: #00af00\">0</span> │ -                          │\n",
       "├───────────────────────────────┼───────────────────────────┼─────────────────┼────────────────────────────┤\n",
       "│ validation_img (<span style=\"color: #0087ff; text-decoration-color: #0087ff\">InputLayer</span>)   │ (<span style=\"color: #00d7ff; text-decoration-color: #00d7ff\">None</span>, <span style=\"color: #00af00; text-decoration-color: #00af00\">100</span>, <span style=\"color: #00af00; text-decoration-color: #00af00\">100</span>, <span style=\"color: #00af00; text-decoration-color: #00af00\">3</span>)       │               <span style=\"color: #00af00; text-decoration-color: #00af00\">0</span> │ -                          │\n",
       "├───────────────────────────────┼───────────────────────────┼─────────────────┼────────────────────────────┤\n",
       "│ embedding (<span style=\"color: #0087ff; text-decoration-color: #0087ff\">Functional</span>)        │ (<span style=\"color: #00d7ff; text-decoration-color: #00d7ff\">None</span>, <span style=\"color: #00af00; text-decoration-color: #00af00\">4096</span>)              │      <span style=\"color: #00af00; text-decoration-color: #00af00\">38,960,448</span> │ input_img[<span style=\"color: #00af00; text-decoration-color: #00af00\">0</span>][<span style=\"color: #00af00; text-decoration-color: #00af00\">0</span>],           │\n",
       "│                               │                           │                 │ validation_img[<span style=\"color: #00af00; text-decoration-color: #00af00\">0</span>][<span style=\"color: #00af00; text-decoration-color: #00af00\">0</span>]       │\n",
       "├───────────────────────────────┼───────────────────────────┼─────────────────┼────────────────────────────┤\n",
       "│ l1_dist_1 (<span style=\"color: #0087ff; text-decoration-color: #0087ff\">L1Dist</span>)            │ (<span style=\"color: #00af00; text-decoration-color: #00af00\">1</span>, <span style=\"color: #00d7ff; text-decoration-color: #00d7ff\">None</span>, <span style=\"color: #00af00; text-decoration-color: #00af00\">4096</span>)           │               <span style=\"color: #00af00; text-decoration-color: #00af00\">0</span> │ embedding[<span style=\"color: #00af00; text-decoration-color: #00af00\">2</span>][<span style=\"color: #00af00; text-decoration-color: #00af00\">0</span>],           │\n",
       "│                               │                           │                 │ embedding[<span style=\"color: #00af00; text-decoration-color: #00af00\">3</span>][<span style=\"color: #00af00; text-decoration-color: #00af00\">0</span>]            │\n",
       "├───────────────────────────────┼───────────────────────────┼─────────────────┼────────────────────────────┤\n",
       "│ squeeze_layer_2               │ (<span style=\"color: #00d7ff; text-decoration-color: #00d7ff\">None</span>, <span style=\"color: #00af00; text-decoration-color: #00af00\">4096</span>)              │               <span style=\"color: #00af00; text-decoration-color: #00af00\">0</span> │ l1_dist_1[<span style=\"color: #00af00; text-decoration-color: #00af00\">0</span>][<span style=\"color: #00af00; text-decoration-color: #00af00\">0</span>]            │\n",
       "│ (<span style=\"color: #0087ff; text-decoration-color: #0087ff\">SqueezeLayer</span>)                │                           │                 │                            │\n",
       "├───────────────────────────────┼───────────────────────────┼─────────────────┼────────────────────────────┤\n",
       "│ dense_2 (<span style=\"color: #0087ff; text-decoration-color: #0087ff\">Dense</span>)               │ (<span style=\"color: #00d7ff; text-decoration-color: #00d7ff\">None</span>, <span style=\"color: #00af00; text-decoration-color: #00af00\">1</span>)                 │           <span style=\"color: #00af00; text-decoration-color: #00af00\">4,097</span> │ squeeze_layer_2[<span style=\"color: #00af00; text-decoration-color: #00af00\">0</span>][<span style=\"color: #00af00; text-decoration-color: #00af00\">0</span>]      │\n",
       "└───────────────────────────────┴───────────────────────────┴─────────────────┴────────────────────────────┘\n",
       "</pre>\n"
      ],
      "text/plain": [
       "┏━━━━━━━━━━━━━━━━━━━━━━━━━━━━━━━┳━━━━━━━━━━━━━━━━━━━━━━━━━━━┳━━━━━━━━━━━━━━━━━┳━━━━━━━━━━━━━━━━━━━━━━━━━━━━┓\n",
       "┃\u001b[1m \u001b[0m\u001b[1mLayer (type)                 \u001b[0m\u001b[1m \u001b[0m┃\u001b[1m \u001b[0m\u001b[1mOutput Shape             \u001b[0m\u001b[1m \u001b[0m┃\u001b[1m \u001b[0m\u001b[1m        Param #\u001b[0m\u001b[1m \u001b[0m┃\u001b[1m \u001b[0m\u001b[1mConnected to              \u001b[0m\u001b[1m \u001b[0m┃\n",
       "┡━━━━━━━━━━━━━━━━━━━━━━━━━━━━━━━╇━━━━━━━━━━━━━━━━━━━━━━━━━━━╇━━━━━━━━━━━━━━━━━╇━━━━━━━━━━━━━━━━━━━━━━━━━━━━┩\n",
       "│ input_img (\u001b[38;5;33mInputLayer\u001b[0m)        │ (\u001b[38;5;45mNone\u001b[0m, \u001b[38;5;34m100\u001b[0m, \u001b[38;5;34m100\u001b[0m, \u001b[38;5;34m3\u001b[0m)       │               \u001b[38;5;34m0\u001b[0m │ -                          │\n",
       "├───────────────────────────────┼───────────────────────────┼─────────────────┼────────────────────────────┤\n",
       "│ validation_img (\u001b[38;5;33mInputLayer\u001b[0m)   │ (\u001b[38;5;45mNone\u001b[0m, \u001b[38;5;34m100\u001b[0m, \u001b[38;5;34m100\u001b[0m, \u001b[38;5;34m3\u001b[0m)       │               \u001b[38;5;34m0\u001b[0m │ -                          │\n",
       "├───────────────────────────────┼───────────────────────────┼─────────────────┼────────────────────────────┤\n",
       "│ embedding (\u001b[38;5;33mFunctional\u001b[0m)        │ (\u001b[38;5;45mNone\u001b[0m, \u001b[38;5;34m4096\u001b[0m)              │      \u001b[38;5;34m38,960,448\u001b[0m │ input_img[\u001b[38;5;34m0\u001b[0m][\u001b[38;5;34m0\u001b[0m],           │\n",
       "│                               │                           │                 │ validation_img[\u001b[38;5;34m0\u001b[0m][\u001b[38;5;34m0\u001b[0m]       │\n",
       "├───────────────────────────────┼───────────────────────────┼─────────────────┼────────────────────────────┤\n",
       "│ l1_dist_1 (\u001b[38;5;33mL1Dist\u001b[0m)            │ (\u001b[38;5;34m1\u001b[0m, \u001b[38;5;45mNone\u001b[0m, \u001b[38;5;34m4096\u001b[0m)           │               \u001b[38;5;34m0\u001b[0m │ embedding[\u001b[38;5;34m2\u001b[0m][\u001b[38;5;34m0\u001b[0m],           │\n",
       "│                               │                           │                 │ embedding[\u001b[38;5;34m3\u001b[0m][\u001b[38;5;34m0\u001b[0m]            │\n",
       "├───────────────────────────────┼───────────────────────────┼─────────────────┼────────────────────────────┤\n",
       "│ squeeze_layer_2               │ (\u001b[38;5;45mNone\u001b[0m, \u001b[38;5;34m4096\u001b[0m)              │               \u001b[38;5;34m0\u001b[0m │ l1_dist_1[\u001b[38;5;34m0\u001b[0m][\u001b[38;5;34m0\u001b[0m]            │\n",
       "│ (\u001b[38;5;33mSqueezeLayer\u001b[0m)                │                           │                 │                            │\n",
       "├───────────────────────────────┼───────────────────────────┼─────────────────┼────────────────────────────┤\n",
       "│ dense_2 (\u001b[38;5;33mDense\u001b[0m)               │ (\u001b[38;5;45mNone\u001b[0m, \u001b[38;5;34m1\u001b[0m)                 │           \u001b[38;5;34m4,097\u001b[0m │ squeeze_layer_2[\u001b[38;5;34m0\u001b[0m][\u001b[38;5;34m0\u001b[0m]      │\n",
       "└───────────────────────────────┴───────────────────────────┴─────────────────┴────────────────────────────┘\n"
      ]
     },
     "metadata": {},
     "output_type": "display_data"
    },
    {
     "data": {
      "text/html": [
       "<pre style=\"white-space:pre;overflow-x:auto;line-height:normal;font-family:Menlo,'DejaVu Sans Mono',consolas,'Courier New',monospace\"><span style=\"font-weight: bold\"> Total params: </span><span style=\"color: #00af00; text-decoration-color: #00af00\">38,964,545</span> (148.64 MB)\n",
       "</pre>\n"
      ],
      "text/plain": [
       "\u001b[1m Total params: \u001b[0m\u001b[38;5;34m38,964,545\u001b[0m (148.64 MB)\n"
      ]
     },
     "metadata": {},
     "output_type": "display_data"
    },
    {
     "data": {
      "text/html": [
       "<pre style=\"white-space:pre;overflow-x:auto;line-height:normal;font-family:Menlo,'DejaVu Sans Mono',consolas,'Courier New',monospace\"><span style=\"font-weight: bold\"> Trainable params: </span><span style=\"color: #00af00; text-decoration-color: #00af00\">38,964,545</span> (148.64 MB)\n",
       "</pre>\n"
      ],
      "text/plain": [
       "\u001b[1m Trainable params: \u001b[0m\u001b[38;5;34m38,964,545\u001b[0m (148.64 MB)\n"
      ]
     },
     "metadata": {},
     "output_type": "display_data"
    },
    {
     "data": {
      "text/html": [
       "<pre style=\"white-space:pre;overflow-x:auto;line-height:normal;font-family:Menlo,'DejaVu Sans Mono',consolas,'Courier New',monospace\"><span style=\"font-weight: bold\"> Non-trainable params: </span><span style=\"color: #00af00; text-decoration-color: #00af00\">0</span> (0.00 B)\n",
       "</pre>\n"
      ],
      "text/plain": [
       "\u001b[1m Non-trainable params: \u001b[0m\u001b[38;5;34m0\u001b[0m (0.00 B)\n"
      ]
     },
     "metadata": {},
     "output_type": "display_data"
    }
   ],
   "source": [
    "siamese_model.summary()"
   ]
  },
  {
   "cell_type": "code",
   "execution_count": 70,
   "id": "a78a17db-e510-4e42-9c22-48e1e1704d5d",
   "metadata": {},
   "outputs": [],
   "source": [
    "binary_cross_loss = tf.losses.BinaryCrossentropy()"
   ]
  },
  {
   "cell_type": "code",
   "execution_count": 72,
   "id": "66213e0f-ce33-48c6-8703-7b2dfb17fdcf",
   "metadata": {},
   "outputs": [],
   "source": [
    "opt = tf.keras.optimizers.Adam(1e-4) # 0.0001"
   ]
  },
  {
   "cell_type": "code",
   "execution_count": 113,
   "id": "22df0374-3dc3-4b41-aaf1-5f0b409efa56",
   "metadata": {},
   "outputs": [],
   "source": [
    "checkpoint_dir = './training_checkpoints'\n",
    "checkpoint_prefix = os.path.join(checkpoint_dir, 'ckpt')\n",
    "checkpoint = tf.train.Checkpoint(opt=opt, siamese_model=siamese_model)"
   ]
  },
  {
   "cell_type": "code",
   "execution_count": 115,
   "id": "45bc019e-0cde-4bad-96dd-09a76c45a5e5",
   "metadata": {},
   "outputs": [],
   "source": [
    "test_batch = train_data.as_numpy_iterator()"
   ]
  },
  {
   "cell_type": "code",
   "execution_count": 127,
   "id": "d1e191b1-175f-4b80-8eff-a5a889aa9311",
   "metadata": {},
   "outputs": [],
   "source": [
    "batch_1 = test_batch.next()"
   ]
  },
  {
   "cell_type": "code",
   "execution_count": 319,
   "id": "4c420d79-c766-4961-84d6-c57fc309d645",
   "metadata": {},
   "outputs": [],
   "source": [
    "X =batch_1[:2] "
   ]
  },
  {
   "cell_type": "code",
   "execution_count": 321,
   "id": "a922feec-0e1b-4609-8617-8c8f0afe1d7a",
   "metadata": {},
   "outputs": [],
   "source": [
    "y= batch_1[2]"
   ]
  },
  {
   "cell_type": "code",
   "execution_count": null,
   "id": "96373e25-5310-47e6-af82-af3d627a6688",
   "metadata": {},
   "outputs": [],
   "source": [
    "X"
   ]
  },
  {
   "cell_type": "code",
   "execution_count": 325,
   "id": "94bcecec-b395-4d6a-8208-c4a5a2b6efa4",
   "metadata": {},
   "outputs": [
    {
     "data": {
      "text/plain": [
       "array([0., 1., 1., 1., 1., 0., 1., 0., 1., 1., 0., 0., 0., 1., 1., 1.],\n",
       "      dtype=float32)"
      ]
     },
     "execution_count": 325,
     "metadata": {},
     "output_type": "execute_result"
    }
   ],
   "source": [
    "y"
   ]
  },
  {
   "cell_type": "code",
   "execution_count": null,
   "id": "98992885-f7c4-4099-85da-9bdefade3539",
   "metadata": {},
   "outputs": [],
   "source": [
    "tf.losses.BinaryCrossentropy??"
   ]
  },
  {
   "cell_type": "code",
   "execution_count": 221,
   "id": "f704f428-9822-4be0-8762-5853c09e8a71",
   "metadata": {},
   "outputs": [],
   "source": [
    "@tf.function\n",
    "def train_step(batch):\n",
    "    with tf.GradientTape() as tape:\n",
    "        X =batch_1[:2] \n",
    "        y = batch_1[2]\n",
    "        yhat = siamese_model(X,training = True)\n",
    "        loss = binary_cross_loss(y,yhat)\n",
    "    print(loss)\n",
    "    grad = tape.gradient (loss,siamese_model.trainable_variables)\n",
    "    opt.apply_gradients(zip(grad,siamese_model.trainable_variables))\n",
    "    return loss"
   ]
  },
  {
   "cell_type": "code",
   "execution_count": 131,
   "id": "f1566734-dea7-4167-9b8a-3506c618f0fb",
   "metadata": {},
   "outputs": [],
   "source": [
    "from tensorflow.keras.metrics import Precision,Recall"
   ]
  },
  {
   "cell_type": "code",
   "execution_count": 133,
   "id": "089474c9-b7e4-4f59-8d22-ff626caecbac",
   "metadata": {},
   "outputs": [],
   "source": [
    "def train(data,EPOCHES):\n",
    "    for epoch in range(1,EPOCHS+1):\n",
    "        print('\\n Epoch {}/{}'.format(epoch,EPOCHS))\n",
    "        progbar = tf.keras.utils.Progbar(len(data))\n",
    "        r = Recall()\n",
    "        p = Precision()\n",
    "        for idx,batch in enumerate(data):\n",
    "            loss = train_step(batch)\n",
    "            yhat = siamese_model.predict(batch[:2])\n",
    "            r.update_state(batch[2],yhat)\n",
    "            p.update_state(batch[2],yhat)\n",
    "            progbar.update(idx+1)\n",
    "        print(loss.numpy(),r.result().numpy(),p.result().numpy())\n",
    "        if epoch % 10 == 0:\n",
    "            checkpoint.save(file_prefix=checkpoint_prefix)"
   ]
  },
  {
   "cell_type": "code",
   "execution_count": 135,
   "id": "f09ae3e6-eb4b-4fc8-b121-b52f0a695d27",
   "metadata": {},
   "outputs": [],
   "source": [
    "EPOCHS = 40"
   ]
  },
  {
   "cell_type": "code",
   "execution_count": null,
   "id": "9738f2bf-3042-4e87-b78c-ed0d31740032",
   "metadata": {},
   "outputs": [],
   "source": [
    "train(train_data,EPOCHS)"
   ]
  },
  {
   "cell_type": "code",
   "execution_count": 139,
   "id": "ae57eaf6-02e6-4cf2-bc3e-c5dbd5a8e568",
   "metadata": {},
   "outputs": [],
   "source": [
    "siamese_model.save('face_recognition_siamese.keras')"
   ]
  },
  {
   "cell_type": "code",
   "execution_count": 141,
   "id": "fe24f1d5-9985-4b8f-ad2e-f5dca671f759",
   "metadata": {},
   "outputs": [
    {
     "data": {
      "text/plain": [
       "__main__.L1Dist"
      ]
     },
     "execution_count": 141,
     "metadata": {},
     "output_type": "execute_result"
    }
   ],
   "source": [
    "L1Dist"
   ]
  },
  {
   "cell_type": "code",
   "execution_count": 74,
   "id": "be77bffd-c297-48cd-9a9d-6ffc80d9d5cc",
   "metadata": {},
   "outputs": [],
   "source": [
    "siamese_model = tf.keras.models.load_model(\n",
    "    'face_recognition_siamese.keras',\n",
    "    custom_objects={'L1Dist': L1Dist, 'binary_cross_loss': binary_cross_loss, 'SqueezeLayer': SqueezeLayer}\n",
    ")\n"
   ]
  },
  {
   "cell_type": "code",
   "execution_count": 217,
   "id": "9be90bd5-8f5c-4983-9fbf-8bbf10ee8e50",
   "metadata": {},
   "outputs": [],
   "source": [
    "test_input, test_val, y_true = test_data.as_numpy_iterator().next()"
   ]
  },
  {
   "cell_type": "code",
   "execution_count": 223,
   "id": "55e43b94-7969-4177-9acb-cfece9aec3a3",
   "metadata": {},
   "outputs": [
    {
     "name": "stdout",
     "output_type": "stream",
     "text": [
      "\u001b[1m1/1\u001b[0m \u001b[32m━━━━━━━━━━━━━━━━━━━━\u001b[0m\u001b[37m\u001b[0m \u001b[1m2s\u001b[0m 2s/step\n"
     ]
    }
   ],
   "source": [
    "\n",
    "y_hat = siamese_model.predict([test_input, test_val])"
   ]
  },
  {
   "cell_type": "code",
   "execution_count": 225,
   "id": "12d12f8e-da7f-4e4d-b932-a74cd59fdf23",
   "metadata": {},
   "outputs": [
    {
     "data": {
      "text/plain": [
       "[1, 0, 0, 0, 1, 0, 1, 0, 0, 0, 1, 0, 1, 0, 1, 0]"
      ]
     },
     "execution_count": 225,
     "metadata": {},
     "output_type": "execute_result"
    }
   ],
   "source": [
    "[1 if prediction > 0.5 else 0 for prediction in y_hat ]"
   ]
  },
  {
   "cell_type": "code",
   "execution_count": 227,
   "id": "3fc7d425-f972-4200-9d3c-2817b5ad962e",
   "metadata": {},
   "outputs": [
    {
     "data": {
      "text/plain": [
       "array([1., 0., 1., 0., 1., 0., 1., 0., 0., 0., 1., 0., 1., 0., 0., 0.],\n",
       "      dtype=float32)"
      ]
     },
     "execution_count": 227,
     "metadata": {},
     "output_type": "execute_result"
    }
   ],
   "source": [
    "\n",
    "y_true"
   ]
  },
  {
   "cell_type": "code",
   "execution_count": 241,
   "id": "7a6c5f7c-39b8-448b-93cc-6072babc4bca",
   "metadata": {},
   "outputs": [
    {
     "name": "stdout",
     "output_type": "stream",
     "text": [
      "\u001b[1m1/1\u001b[0m \u001b[32m━━━━━━━━━━━━━━━━━━━━\u001b[0m\u001b[37m\u001b[0m \u001b[1m1s\u001b[0m 1s/step\n",
      "\u001b[1m1/1\u001b[0m \u001b[32m━━━━━━━━━━━━━━━━━━━━\u001b[0m\u001b[37m\u001b[0m \u001b[1m1s\u001b[0m 1s/step\n",
      "\u001b[1m1/1\u001b[0m \u001b[32m━━━━━━━━━━━━━━━━━━━━\u001b[0m\u001b[37m\u001b[0m \u001b[1m1s\u001b[0m 1s/step\n",
      "\u001b[1m1/1\u001b[0m \u001b[32m━━━━━━━━━━━━━━━━━━━━\u001b[0m\u001b[37m\u001b[0m \u001b[1m2s\u001b[0m 2s/step\n",
      "\u001b[1m1/1\u001b[0m \u001b[32m━━━━━━━━━━━━━━━━━━━━\u001b[0m\u001b[37m\u001b[0m \u001b[1m1s\u001b[0m 1s/step\n",
      "\u001b[1m1/1\u001b[0m \u001b[32m━━━━━━━━━━━━━━━━━━━━\u001b[0m\u001b[37m\u001b[0m \u001b[1m2s\u001b[0m 2s/step\n",
      "\u001b[1m1/1\u001b[0m \u001b[32m━━━━━━━━━━━━━━━━━━━━\u001b[0m\u001b[37m\u001b[0m \u001b[1m1s\u001b[0m 1s/step\n",
      "\u001b[1m1/1\u001b[0m \u001b[32m━━━━━━━━━━━━━━━━━━━━\u001b[0m\u001b[37m\u001b[0m \u001b[1m1s\u001b[0m 1s/step\n",
      "\u001b[1m1/1\u001b[0m \u001b[32m━━━━━━━━━━━━━━━━━━━━\u001b[0m\u001b[37m\u001b[0m \u001b[1m1s\u001b[0m 1s/step\n",
      "\u001b[1m1/1\u001b[0m \u001b[32m━━━━━━━━━━━━━━━━━━━━\u001b[0m\u001b[37m\u001b[0m \u001b[1m1s\u001b[0m 1s/step\n",
      "\u001b[1m1/1\u001b[0m \u001b[32m━━━━━━━━━━━━━━━━━━━━\u001b[0m\u001b[37m\u001b[0m \u001b[1m0s\u001b[0m 211ms/step\n",
      "Recall: 0.9432\n",
      "Precision:0.8218\n"
     ]
    }
   ],
   "source": [
    "\n",
    "r = Recall()\n",
    "p = Precision()\n",
    "\n",
    "for test_input, test_val, y_true in test_data.as_numpy_iterator():\n",
    "    yhat = siamese_model.predict([test_input, test_val])\n",
    "    r.update_state(y_true, yhat)\n",
    "    p.update_state(y_true,yhat) \n"
   ]
  },
  {
   "cell_type": "code",
   "execution_count": 243,
   "id": "36d44688-f5a7-4d66-8d7d-ea0690f3687e",
   "metadata": {},
   "outputs": [
    {
     "name": "stdout",
     "output_type": "stream",
     "text": [
      "Recall: 0.9432\n",
      "Precision:0.8218\n"
     ]
    }
   ],
   "source": [
    "print(f\"Recall: {r.result().numpy():.4f}\")\n",
    "print (f\"Precision:{ p.result().numpy():.4f}\")"
   ]
  },
  {
   "cell_type": "code",
   "execution_count": 255,
   "id": "8ee4af45-4218-4a27-b24c-860f7b8c6db1",
   "metadata": {},
   "outputs": [
    {
     "name": "stdout",
     "output_type": "stream",
     "text": [
      "F1-score: 0.8783\n"
     ]
    }
   ],
   "source": [
    "print(f\"F1-score: {f1:.4f}\")"
   ]
  },
  {
   "cell_type": "code",
   "execution_count": 257,
   "id": "8615e712-27c9-4a35-906e-6fbeead41ee8",
   "metadata": {},
   "outputs": [
    {
     "data": {
      "text/html": [
       "<pre style=\"white-space:pre;overflow-x:auto;line-height:normal;font-family:Menlo,'DejaVu Sans Mono',consolas,'Courier New',monospace\"><span style=\"font-weight: bold\">Model: \"SiameseNetwork\"</span>\n",
       "</pre>\n"
      ],
      "text/plain": [
       "\u001b[1mModel: \"SiameseNetwork\"\u001b[0m\n"
      ]
     },
     "metadata": {},
     "output_type": "display_data"
    },
    {
     "data": {
      "text/html": [
       "<pre style=\"white-space:pre;overflow-x:auto;line-height:normal;font-family:Menlo,'DejaVu Sans Mono',consolas,'Courier New',monospace\">┏━━━━━━━━━━━━━━━━━━━━━━━━━━━━━━━┳━━━━━━━━━━━━━━━━━━━━━━━━━━━┳━━━━━━━━━━━━━━━━━┳━━━━━━━━━━━━━━━━━━━━━━━━━━━━┓\n",
       "┃<span style=\"font-weight: bold\"> Layer (type)                  </span>┃<span style=\"font-weight: bold\"> Output Shape              </span>┃<span style=\"font-weight: bold\">         Param # </span>┃<span style=\"font-weight: bold\"> Connected to               </span>┃\n",
       "┡━━━━━━━━━━━━━━━━━━━━━━━━━━━━━━━╇━━━━━━━━━━━━━━━━━━━━━━━━━━━╇━━━━━━━━━━━━━━━━━╇━━━━━━━━━━━━━━━━━━━━━━━━━━━━┩\n",
       "│ input_img (<span style=\"color: #0087ff; text-decoration-color: #0087ff\">InputLayer</span>)        │ (<span style=\"color: #00d7ff; text-decoration-color: #00d7ff\">None</span>, <span style=\"color: #00af00; text-decoration-color: #00af00\">100</span>, <span style=\"color: #00af00; text-decoration-color: #00af00\">100</span>, <span style=\"color: #00af00; text-decoration-color: #00af00\">3</span>)       │               <span style=\"color: #00af00; text-decoration-color: #00af00\">0</span> │ -                          │\n",
       "├───────────────────────────────┼───────────────────────────┼─────────────────┼────────────────────────────┤\n",
       "│ validation_img (<span style=\"color: #0087ff; text-decoration-color: #0087ff\">InputLayer</span>)   │ (<span style=\"color: #00d7ff; text-decoration-color: #00d7ff\">None</span>, <span style=\"color: #00af00; text-decoration-color: #00af00\">100</span>, <span style=\"color: #00af00; text-decoration-color: #00af00\">100</span>, <span style=\"color: #00af00; text-decoration-color: #00af00\">3</span>)       │               <span style=\"color: #00af00; text-decoration-color: #00af00\">0</span> │ -                          │\n",
       "├───────────────────────────────┼───────────────────────────┼─────────────────┼────────────────────────────┤\n",
       "│ embedding (<span style=\"color: #0087ff; text-decoration-color: #0087ff\">Functional</span>)        │ (<span style=\"color: #00d7ff; text-decoration-color: #00d7ff\">None</span>, <span style=\"color: #00af00; text-decoration-color: #00af00\">4096</span>)              │      <span style=\"color: #00af00; text-decoration-color: #00af00\">38,960,448</span> │ input_img[<span style=\"color: #00af00; text-decoration-color: #00af00\">0</span>][<span style=\"color: #00af00; text-decoration-color: #00af00\">0</span>],           │\n",
       "│                               │                           │                 │ validation_img[<span style=\"color: #00af00; text-decoration-color: #00af00\">0</span>][<span style=\"color: #00af00; text-decoration-color: #00af00\">0</span>]       │\n",
       "├───────────────────────────────┼───────────────────────────┼─────────────────┼────────────────────────────┤\n",
       "│ l1_dist_3 (<span style=\"color: #0087ff; text-decoration-color: #0087ff\">L1Dist</span>)            │ (<span style=\"color: #00af00; text-decoration-color: #00af00\">1</span>, <span style=\"color: #00d7ff; text-decoration-color: #00d7ff\">None</span>, <span style=\"color: #00af00; text-decoration-color: #00af00\">4096</span>)           │               <span style=\"color: #00af00; text-decoration-color: #00af00\">0</span> │ embedding[<span style=\"color: #00af00; text-decoration-color: #00af00\">0</span>][<span style=\"color: #00af00; text-decoration-color: #00af00\">0</span>],           │\n",
       "│                               │                           │                 │ embedding[<span style=\"color: #00af00; text-decoration-color: #00af00\">1</span>][<span style=\"color: #00af00; text-decoration-color: #00af00\">0</span>]            │\n",
       "├───────────────────────────────┼───────────────────────────┼─────────────────┼────────────────────────────┤\n",
       "│ squeeze_layer_1               │ (<span style=\"color: #00d7ff; text-decoration-color: #00d7ff\">None</span>, <span style=\"color: #00af00; text-decoration-color: #00af00\">4096</span>)              │               <span style=\"color: #00af00; text-decoration-color: #00af00\">0</span> │ l1_dist_3[<span style=\"color: #00af00; text-decoration-color: #00af00\">0</span>][<span style=\"color: #00af00; text-decoration-color: #00af00\">0</span>]            │\n",
       "│ (<span style=\"color: #0087ff; text-decoration-color: #0087ff\">SqueezeLayer</span>)                │                           │                 │                            │\n",
       "├───────────────────────────────┼───────────────────────────┼─────────────────┼────────────────────────────┤\n",
       "│ dense_2 (<span style=\"color: #0087ff; text-decoration-color: #0087ff\">Dense</span>)               │ (<span style=\"color: #00d7ff; text-decoration-color: #00d7ff\">None</span>, <span style=\"color: #00af00; text-decoration-color: #00af00\">1</span>)                 │           <span style=\"color: #00af00; text-decoration-color: #00af00\">4,097</span> │ squeeze_layer_1[<span style=\"color: #00af00; text-decoration-color: #00af00\">0</span>][<span style=\"color: #00af00; text-decoration-color: #00af00\">0</span>]      │\n",
       "└───────────────────────────────┴───────────────────────────┴─────────────────┴────────────────────────────┘\n",
       "</pre>\n"
      ],
      "text/plain": [
       "┏━━━━━━━━━━━━━━━━━━━━━━━━━━━━━━━┳━━━━━━━━━━━━━━━━━━━━━━━━━━━┳━━━━━━━━━━━━━━━━━┳━━━━━━━━━━━━━━━━━━━━━━━━━━━━┓\n",
       "┃\u001b[1m \u001b[0m\u001b[1mLayer (type)                 \u001b[0m\u001b[1m \u001b[0m┃\u001b[1m \u001b[0m\u001b[1mOutput Shape             \u001b[0m\u001b[1m \u001b[0m┃\u001b[1m \u001b[0m\u001b[1m        Param #\u001b[0m\u001b[1m \u001b[0m┃\u001b[1m \u001b[0m\u001b[1mConnected to              \u001b[0m\u001b[1m \u001b[0m┃\n",
       "┡━━━━━━━━━━━━━━━━━━━━━━━━━━━━━━━╇━━━━━━━━━━━━━━━━━━━━━━━━━━━╇━━━━━━━━━━━━━━━━━╇━━━━━━━━━━━━━━━━━━━━━━━━━━━━┩\n",
       "│ input_img (\u001b[38;5;33mInputLayer\u001b[0m)        │ (\u001b[38;5;45mNone\u001b[0m, \u001b[38;5;34m100\u001b[0m, \u001b[38;5;34m100\u001b[0m, \u001b[38;5;34m3\u001b[0m)       │               \u001b[38;5;34m0\u001b[0m │ -                          │\n",
       "├───────────────────────────────┼───────────────────────────┼─────────────────┼────────────────────────────┤\n",
       "│ validation_img (\u001b[38;5;33mInputLayer\u001b[0m)   │ (\u001b[38;5;45mNone\u001b[0m, \u001b[38;5;34m100\u001b[0m, \u001b[38;5;34m100\u001b[0m, \u001b[38;5;34m3\u001b[0m)       │               \u001b[38;5;34m0\u001b[0m │ -                          │\n",
       "├───────────────────────────────┼───────────────────────────┼─────────────────┼────────────────────────────┤\n",
       "│ embedding (\u001b[38;5;33mFunctional\u001b[0m)        │ (\u001b[38;5;45mNone\u001b[0m, \u001b[38;5;34m4096\u001b[0m)              │      \u001b[38;5;34m38,960,448\u001b[0m │ input_img[\u001b[38;5;34m0\u001b[0m][\u001b[38;5;34m0\u001b[0m],           │\n",
       "│                               │                           │                 │ validation_img[\u001b[38;5;34m0\u001b[0m][\u001b[38;5;34m0\u001b[0m]       │\n",
       "├───────────────────────────────┼───────────────────────────┼─────────────────┼────────────────────────────┤\n",
       "│ l1_dist_3 (\u001b[38;5;33mL1Dist\u001b[0m)            │ (\u001b[38;5;34m1\u001b[0m, \u001b[38;5;45mNone\u001b[0m, \u001b[38;5;34m4096\u001b[0m)           │               \u001b[38;5;34m0\u001b[0m │ embedding[\u001b[38;5;34m0\u001b[0m][\u001b[38;5;34m0\u001b[0m],           │\n",
       "│                               │                           │                 │ embedding[\u001b[38;5;34m1\u001b[0m][\u001b[38;5;34m0\u001b[0m]            │\n",
       "├───────────────────────────────┼───────────────────────────┼─────────────────┼────────────────────────────┤\n",
       "│ squeeze_layer_1               │ (\u001b[38;5;45mNone\u001b[0m, \u001b[38;5;34m4096\u001b[0m)              │               \u001b[38;5;34m0\u001b[0m │ l1_dist_3[\u001b[38;5;34m0\u001b[0m][\u001b[38;5;34m0\u001b[0m]            │\n",
       "│ (\u001b[38;5;33mSqueezeLayer\u001b[0m)                │                           │                 │                            │\n",
       "├───────────────────────────────┼───────────────────────────┼─────────────────┼────────────────────────────┤\n",
       "│ dense_2 (\u001b[38;5;33mDense\u001b[0m)               │ (\u001b[38;5;45mNone\u001b[0m, \u001b[38;5;34m1\u001b[0m)                 │           \u001b[38;5;34m4,097\u001b[0m │ squeeze_layer_1[\u001b[38;5;34m0\u001b[0m][\u001b[38;5;34m0\u001b[0m]      │\n",
       "└───────────────────────────────┴───────────────────────────┴─────────────────┴────────────────────────────┘\n"
      ]
     },
     "metadata": {},
     "output_type": "display_data"
    },
    {
     "data": {
      "text/html": [
       "<pre style=\"white-space:pre;overflow-x:auto;line-height:normal;font-family:Menlo,'DejaVu Sans Mono',consolas,'Courier New',monospace\"><span style=\"font-weight: bold\"> Total params: </span><span style=\"color: #00af00; text-decoration-color: #00af00\">38,964,545</span> (148.64 MB)\n",
       "</pre>\n"
      ],
      "text/plain": [
       "\u001b[1m Total params: \u001b[0m\u001b[38;5;34m38,964,545\u001b[0m (148.64 MB)\n"
      ]
     },
     "metadata": {},
     "output_type": "display_data"
    },
    {
     "data": {
      "text/html": [
       "<pre style=\"white-space:pre;overflow-x:auto;line-height:normal;font-family:Menlo,'DejaVu Sans Mono',consolas,'Courier New',monospace\"><span style=\"font-weight: bold\"> Trainable params: </span><span style=\"color: #00af00; text-decoration-color: #00af00\">38,964,545</span> (148.64 MB)\n",
       "</pre>\n"
      ],
      "text/plain": [
       "\u001b[1m Trainable params: \u001b[0m\u001b[38;5;34m38,964,545\u001b[0m (148.64 MB)\n"
      ]
     },
     "metadata": {},
     "output_type": "display_data"
    },
    {
     "data": {
      "text/html": [
       "<pre style=\"white-space:pre;overflow-x:auto;line-height:normal;font-family:Menlo,'DejaVu Sans Mono',consolas,'Courier New',monospace\"><span style=\"font-weight: bold\"> Non-trainable params: </span><span style=\"color: #00af00; text-decoration-color: #00af00\">0</span> (0.00 B)\n",
       "</pre>\n"
      ],
      "text/plain": [
       "\u001b[1m Non-trainable params: \u001b[0m\u001b[38;5;34m0\u001b[0m (0.00 B)\n"
      ]
     },
     "metadata": {},
     "output_type": "display_data"
    }
   ],
   "source": [
    "siamese_model.summary()"
   ]
  },
  {
   "cell_type": "code",
   "execution_count": null,
   "id": "fe060f42-666b-4422-a500-48970adb49bd",
   "metadata": {},
   "outputs": [],
   "source": [
    "application_data\\verification_images"
   ]
  },
  {
   "cell_type": "code",
   "execution_count": null,
   "id": "626aa269-e432-42eb-8bf5-cd8a3dabef57",
   "metadata": {},
   "outputs": [],
   "source": [
    "os.listdir(os.path.join('application_data','verification_images'))"
   ]
  },
  {
   "cell_type": "code",
   "execution_count": 267,
   "id": "e37073c0-0f68-4efd-9d26-fa7cf30e54d9",
   "metadata": {},
   "outputs": [
    {
     "data": {
      "text/plain": [
       "'application_data\\\\input_images\\\\input_images.jpg'"
      ]
     },
     "execution_count": 267,
     "metadata": {},
     "output_type": "execute_result"
    }
   ],
   "source": [
    "os.path.join('application_data','input_images','input_images.jpg')"
   ]
  },
  {
   "cell_type": "code",
   "execution_count": 76,
   "id": "4fdde1eb-ae24-4065-aab7-67e06f254c18",
   "metadata": {
    "scrolled": true
   },
   "outputs": [
    {
     "name": "stdout",
     "output_type": "stream",
     "text": [
      "application_data\\verification_images\\04bfdd42-028c-11f0-ac2f-58fb8442ae13.jpg\n",
      "application_data\\verification_images\\04f742a3-028c-11f0-b92d-58fb8442ae13.jpg\n",
      "application_data\\verification_images\\05fbb137-028c-11f0-8726-58fb8442ae13.jpg\n",
      "application_data\\verification_images\\06b3615d-028c-11f0-a13f-58fb8442ae13.jpg\n",
      "application_data\\verification_images\\06bf670e-028c-11f0-9a2f-58fb8442ae13.jpg\n",
      "application_data\\verification_images\\07bb8f37-028c-11f0-b341-58fb8442ae13.jpg\n",
      "application_data\\verification_images\\07ceeb5e-028c-11f0-b2bf-58fb8442ae13.jpg\n",
      "application_data\\verification_images\\0a30a08d-028c-11f0-b6b4-58fb8442ae13.jpg\n",
      "application_data\\verification_images\\0a72274e-028c-11f0-9b02-58fb8442ae13.jpg\n",
      "application_data\\verification_images\\0aae4576-028c-11f0-90b3-58fb8442ae13.jpg\n",
      "application_data\\verification_images\\0b8ab60a-028c-11f0-bbb2-58fb8442ae13.jpg\n",
      "application_data\\verification_images\\0ba57f1e-028c-11f0-b3ba-58fb8442ae13.jpg\n",
      "application_data\\verification_images\\0baeee2b-028c-11f0-a0fc-58fb8442ae13.jpg\n",
      "application_data\\verification_images\\0bda9b23-028c-11f0-b27c-58fb8442ae13.jpg\n",
      "application_data\\verification_images\\0beba67a-028c-11f0-a2da-58fb8442ae13.jpg\n",
      "application_data\\verification_images\\0c2cef88-028c-11f0-a72e-58fb8442ae13.jpg\n",
      "application_data\\verification_images\\7ae03c66-0293-11f0-800e-58fb8442ae13.jpg\n",
      "application_data\\verification_images\\7ae0b144-0293-11f0-9ebb-58fb8442ae13.jpg\n",
      "application_data\\verification_images\\7ae0d830-0293-11f0-85ac-58fb8442ae13.jpg\n",
      "application_data\\verification_images\\7b0e7fb0-0293-11f0-ad7a-58fb8442ae13 - Copy.jpg\n",
      "application_data\\verification_images\\7b4153c0-0293-11f0-99eb-58fb8442ae13.jpg\n",
      "application_data\\verification_images\\7b52382a-0293-11f0-b048-58fb8442ae13.jpg\n",
      "application_data\\verification_images\\7b63915d-0293-11f0-be94-58fb8442ae13.jpg\n",
      "application_data\\verification_images\\7c2f569c-0293-11f0-83bb-58fb8442ae13.jpg\n",
      "application_data\\verification_images\\7c2f569d-0293-11f0-b4e1-58fb8442ae13.jpg\n",
      "application_data\\verification_images\\7c2f7d97-0293-11f0-996e-58fb8442ae13.jpg\n",
      "application_data\\verification_images\\7cef3dbd-0293-11f0-8814-58fb8442ae13.jpg\n",
      "application_data\\verification_images\\7cfeeba3-0293-11f0-b197-58fb8442ae13.jpg\n",
      "application_data\\verification_images\\7cff116f-0293-11f0-bd15-58fb8442ae13.jpg\n",
      "application_data\\verification_images\\7df4003b-0293-11f0-ae95-58fb8442ae13.jpg\n",
      "application_data\\verification_images\\7df42625-0293-11f0-8c33-58fb8442ae13.jpg\n",
      "application_data\\verification_images\\7df4743b-0293-11f0-8b8d-58fb8442ae13.jpg\n",
      "application_data\\verification_images\\7e035f74-0293-11f0-913f-58fb8442ae13.jpg\n",
      "application_data\\verification_images\\7e03ad5d-0293-11f0-894f-58fb8442ae13.jpg\n",
      "application_data\\verification_images\\7e03d456-0293-11f0-a2f5-58fb8442ae13.jpg\n",
      "application_data\\verification_images\\7e03fb48-0293-11f0-a9b0-58fb8442ae13.jpg\n",
      "application_data\\verification_images\\7e7eabb8-0293-11f0-b29f-58fb8442ae13.jpg\n",
      "application_data\\verification_images\\7e7ed2b2-0293-11f0-a828-58fb8442ae13.jpg\n",
      "application_data\\verification_images\\7e7ef9a7-0293-11f0-8778-58fb8442ae13.jpg\n",
      "application_data\\verification_images\\7e7f47dc-0293-11f0-b178-58fb8442ae13.jpg\n",
      "application_data\\verification_images\\7e7f6e82-0293-11f0-83b5-58fb8442ae13.jpg\n",
      "application_data\\verification_images\\d3506510-0806-11f0-95fd-58fb8442ae13 - Copy.jpg\n",
      "application_data\\verification_images\\d3622201-0806-11f0-936b-58fb8442ae13 - Copy.jpg\n",
      "application_data\\verification_images\\d3d5242c-0806-11f0-8c94-58fb8442ae13.jpg\n",
      "application_data\\verification_images\\d3d5720e-0806-11f0-98ad-58fb8442ae13.jpg\n",
      "application_data\\verification_images\\d3d5720f-0806-11f0-a896-58fb8442ae13.jpg\n",
      "application_data\\verification_images\\d3d5990b-0806-11f0-82d5-58fb8442ae13.jpg\n",
      "application_data\\verification_images\\d3e59c58-0806-11f0-a046-58fb8442ae13.jpg\n",
      "application_data\\verification_images\\d3e5c348-0806-11f0-b8bd-58fb8442ae13.jpg\n",
      "application_data\\verification_images\\d3e5eae9-0806-11f0-83fb-58fb8442ae13.jpg\n",
      "application_data\\verification_images\\dc880043-0806-11f0-a4d0-58fb8442ae13 - Copy.jpg\n",
      "application_data\\verification_images\\dc88265c-0806-11f0-8981-58fb8442ae13 - Copy.jpg\n",
      "application_data\\verification_images\\dc887404-0806-11f0-b0c8-58fb8442ae13 - Copy.jpg\n",
      "application_data\\verification_images\\dde8db37-0806-11f0-a62e-58fb8442ae13 - Copy.jpg\n",
      "application_data\\verification_images\\dde90398-0806-11f0-8ce2-58fb8442ae13 - Copy.jpg\n",
      "application_data\\verification_images\\dde95033-0806-11f0-8dda-58fb8442ae13 - Copy.jpg\n",
      "application_data\\verification_images\\de927c30-0806-11f0-8a43-58fb8442ae13 - Copy.jpg\n",
      "application_data\\verification_images\\de92a32c-0806-11f0-8e1b-58fb8442ae13 - Copy.jpg\n",
      "application_data\\verification_images\\de92f126-0806-11f0-9585-58fb8442ae13 - Copy.jpg\n",
      "application_data\\verification_images\\dea4b2b7-0806-11f0-987b-58fb8442ae13 - Copy.jpg\n"
     ]
    }
   ],
   "source": [
    "\n",
    "for image in os.listdir(os.path.join('application_data', 'verification_images')):\n",
    "    validation_img = os.path.join('application_data', 'verification_images', image)\n",
    "    print(validation_img)"
   ]
  },
  {
   "cell_type": "code",
   "execution_count": 105,
   "id": "1a9bf3d8-56f0-48c3-a623-13414ddd1d83",
   "metadata": {},
   "outputs": [],
   "source": [
    "def verify(model, detection_threshold, verification_threshold):\n",
    "    # Build results array\n",
    "    results = []\n",
    "    for image in os.listdir(os.path.join('application_data', 'verification_images')):\n",
    "        input_img = preprocess(os.path.join('application_data', 'input_images', 'input_images.jpg'))\n",
    "        validation_img = preprocess(os.path.join('application_data', 'verification_images', image))\n",
    "        \n",
    "        # Make Predictions \n",
    "        result = model.predict(list(np.expand_dims([input_img, validation_img], axis=1)),verbose=0)\n",
    "        results.append(result)\n",
    "    \n",
    "    # Detection Threshold: Metric above which a prediciton is considered positive \n",
    "    detection = np.sum(np.array(results) > detection_threshold)\n",
    "    \n",
    "    # Verification Threshold: Proportion of positive predictions / total positive samples \n",
    "    verification = detection / len(os.listdir(os.path.join('application_data', 'verification_images'))) \n",
    "    verified = verification > verification_threshold\n",
    "    \n",
    "    return results, verified"
   ]
  },
  {
   "cell_type": "code",
   "execution_count": 107,
   "id": "f34d9854-9a1d-48de-9a53-ccb772e2b11d",
   "metadata": {},
   "outputs": [
    {
     "name": "stdout",
     "output_type": "stream",
     "text": [
      "True\n",
      "False\n",
      "False\n"
     ]
    }
   ],
   "source": [
    "cap = cv2.VideoCapture(0)\n",
    "while cap.isOpened():\n",
    "    ret, frame = cap.read()\n",
    "    frame = frame[120:120+250,200:200+250, :]\n",
    "    \n",
    "    cv2.imshow('Verification', frame)\n",
    "    \n",
    "    # Verification trigger\n",
    "    if cv2.waitKey(10) & 0xFF == ord('v'):\n",
    "        # Save input image to application_data/input_image folder \n",
    "#         hsv = cv2.cvtColor(frame, cv2.COLOR_BGR2HSV)\n",
    "#         h, s, v = cv2.split(hsv)\n",
    "\n",
    "#         lim = 255 - 10\n",
    "#         v[v > lim] = 255\n",
    "#         v[v <= lim] -= 10\n",
    "        \n",
    "#         final_hsv = cv2.merge((h, s, v))\n",
    "#         img = cv2.cvtColor(final_hsv, cv2.COLOR_HSV2BGR)\n",
    "\n",
    "        cv2.imwrite(os.path.join('application_data', 'input_images', 'input_images.jpg'), frame)\n",
    "        # Run verification\n",
    "        results, verified = verify(siamese_model, 0.5, 0.5)\n",
    "        print(verified)\n",
    "    \n",
    "    if cv2.waitKey(10) & 0xFF == ord('q'):\n",
    "        break\n",
    "cap.release()\n",
    "cv2.destroyAllWindows()"
   ]
  },
  {
   "cell_type": "code",
   "execution_count": null,
   "id": "a16a9bea-88c7-4dc6-95f8-54c742aed4b1",
   "metadata": {},
   "outputs": [],
   "source": []
  }
 ],
 "metadata": {
  "kernelspec": {
   "display_name": "Python 3 (ipykernel)",
   "language": "python",
   "name": "python3"
  },
  "language_info": {
   "codemirror_mode": {
    "name": "ipython",
    "version": 3
   },
   "file_extension": ".py",
   "mimetype": "text/x-python",
   "name": "python",
   "nbconvert_exporter": "python",
   "pygments_lexer": "ipython3",
   "version": "3.12.7"
  }
 },
 "nbformat": 4,
 "nbformat_minor": 5
}
